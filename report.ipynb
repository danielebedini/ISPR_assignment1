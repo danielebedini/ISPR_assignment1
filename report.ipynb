{
 "cells": [
  {
   "cell_type": "markdown",
   "metadata": {},
   "source": [
    "# Signal processing Assignement 4\n",
    "Trying to detect an instrument by looking at its frequency spectrum."
   ]
  },
  {
   "cell_type": "code",
   "execution_count": 4,
   "metadata": {},
   "outputs": [
    {
     "ename": "ImportError",
     "evalue": "cannot import name 'detect_instrument' from 'utils' (/Users/danielebedini/Documents/Università/Magistrale/Second semester/ISPR/ISPR_assignment1/utils.py)",
     "output_type": "error",
     "traceback": [
      "\u001b[0;31m---------------------------------------------------------------------------\u001b[0m",
      "\u001b[0;31mImportError\u001b[0m                               Traceback (most recent call last)",
      "Cell \u001b[0;32mIn[4], line 2\u001b[0m\n\u001b[1;32m      1\u001b[0m \u001b[38;5;66;03m# First of all we need to plot the data\u001b[39;00m\n\u001b[0;32m----> 2\u001b[0m \u001b[38;5;28;01mfrom\u001b[39;00m \u001b[38;5;21;01mutils\u001b[39;00m \u001b[38;5;28;01mimport\u001b[39;00m plot_magnitude_and_phase_soectrogram, detect_instrument\n\u001b[1;32m      4\u001b[0m \u001b[38;5;66;03m# path of the audio files\u001b[39;00m\n\u001b[1;32m      5\u001b[0m path_guitar \u001b[38;5;241m=\u001b[39m \u001b[38;5;124m'\u001b[39m\u001b[38;5;124mall-samples/guitar/guitar_A2_very-long_forte_normal.mp3\u001b[39m\u001b[38;5;124m'\u001b[39m\n",
      "\u001b[0;31mImportError\u001b[0m: cannot import name 'detect_instrument' from 'utils' (/Users/danielebedini/Documents/Università/Magistrale/Second semester/ISPR/ISPR_assignment1/utils.py)"
     ]
    }
   ],
   "source": [
    "# First of all we need to plot the data\n",
    "from utils import plot_magnitude_and_phase_soectrogram, detect_instrument\n",
    "\n",
    "# path of the audio files\n",
    "path_guitar = 'all-samples/guitar/guitar_A2_very-long_forte_normal.mp3'\n",
    "path_flute = 'all-samples/flute/flute_A4_1_forte_normal.mp3'\n",
    "path_mandolin = 'all-samples/mandolin/mandolin_A3_very-long_forte_tremolo.mp3'\n",
    "path_saxophone = 'all-samples/saxophone/saxophone_A3_1_forte_normal.mp3'\n",
    "\n",
    "# plot the magnitude and phase spectrogram\n",
    "plot_magnitude_and_phase_soectrogram(path_guitar)\n",
    "plot_magnitude_and_phase_soectrogram(path_flute)\n",
    "plot_magnitude_and_phase_soectrogram(path_mandolin)\n",
    "plot_magnitude_and_phase_soectrogram(path_saxophone)\n"
   ]
  },
  {
   "cell_type": "markdown",
   "metadata": {},
   "source": [
    "Now that we have seen at the graphs, we can see that the frequency spectrum of the different instruments is different. We can use this to detect the instrument that is playing a note."
   ]
  },
  {
   "cell_type": "code",
   "execution_count": 3,
   "metadata": {},
   "outputs": [
    {
     "ename": "ImportError",
     "evalue": "cannot import name 'detect_instrument' from 'utils' (/Users/danielebedini/Documents/Università/Magistrale/Second semester/ISPR/ISPR_assignment1/utils.py)",
     "output_type": "error",
     "traceback": [
      "\u001b[0;31m---------------------------------------------------------------------------\u001b[0m",
      "\u001b[0;31mImportError\u001b[0m                               Traceback (most recent call last)",
      "Cell \u001b[0;32mIn[3], line 2\u001b[0m\n\u001b[1;32m      1\u001b[0m \u001b[38;5;66;03m# detect the instrument from the audio file\u001b[39;00m\n\u001b[0;32m----> 2\u001b[0m \u001b[38;5;28;01mfrom\u001b[39;00m \u001b[38;5;21;01mutils\u001b[39;00m \u001b[38;5;28;01mimport\u001b[39;00m detect_instrument\n\u001b[1;32m      3\u001b[0m \u001b[38;5;28mprint\u001b[39m(detect_instrument(path_guitar))\n",
      "\u001b[0;31mImportError\u001b[0m: cannot import name 'detect_instrument' from 'utils' (/Users/danielebedini/Documents/Università/Magistrale/Second semester/ISPR/ISPR_assignment1/utils.py)"
     ]
    }
   ],
   "source": [
    "# detect the instrument from the audio file\n",
    "from utils import detect_instrument\n",
    "print(detect_instrument(path_guitar))\n",
    "#print(detect_instrument(path_flute))\n",
    "#print(detect_instrument(path_mandolin))\n",
    "#print(detect_instrument(path_saxophone))"
   ]
  },
  {
   "cell_type": "code",
   "execution_count": null,
   "metadata": {},
   "outputs": [],
   "source": []
  }
 ],
 "metadata": {
  "kernelspec": {
   "display_name": "ai",
   "language": "python",
   "name": "python3"
  },
  "language_info": {
   "codemirror_mode": {
    "name": "ipython",
    "version": 3
   },
   "file_extension": ".py",
   "mimetype": "text/x-python",
   "name": "python",
   "nbconvert_exporter": "python",
   "pygments_lexer": "ipython3",
   "version": "3.11.8"
  }
 },
 "nbformat": 4,
 "nbformat_minor": 2
}
